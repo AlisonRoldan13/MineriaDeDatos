{
 "cells": [
  {
   "cell_type": "markdown",
   "metadata": {},
   "source": [
    "# Ejercicio 1:\n",
    "  Realiza una variable con tu matricula y realiza una secuencia de imprimir con tu nombre y tu matricula concatenados.\n",
    "  \n",
    "  - [Concatenar](https://j2logo.com/como-concatenar-y-formatear-strings/])"
   ]
  },
  {
   "cell_type": "code",
   "execution_count": 158,
   "metadata": {},
   "outputs": [
    {
     "name": "stdout",
     "output_type": "stream",
     "text": [
      "Ingrese su nombre completo: Alison Leonor Roldan Sanchez\n",
      "Ingrese su matrícula: 1806488\n",
      "\n",
      " Alison Leonor Roldan Sanchez , 1806488 \n"
     ]
    }
   ],
   "source": [
    "nombre = str(input(\"Ingrese su nombre completo: \"))\n",
    "matricula = int(input(\"Ingrese su matrícula: \"))\n",
    "\n",
    "print('\\n %s , %i '% (nombre, matricula))"
   ]
  },
  {
   "cell_type": "markdown",
   "metadata": {},
   "source": [
    "# Ejercicio 2:\n",
    "Pidiendo el input del usuario pide dos números y crea una pequeña calculadora con los operadores básicos de suma, resta, multiplicación, división, y exponente."
   ]
  },
  {
   "cell_type": "code",
   "execution_count": 159,
   "metadata": {},
   "outputs": [
    {
     "name": "stdout",
     "output_type": "stream",
     "text": [
      "\n",
      "   Calculadora \n",
      "\n",
      "    \n",
      "    Menu:\n",
      "    1) Suma\n",
      "    2) Resta\n",
      "    3) Multiplicacion\n",
      "    4) Division\n",
      "    5) Exponente\n",
      "    6) Salir\n",
      "\n",
      " Operacion(ingrese numero del menu): 4\n",
      "\n",
      " Ingrese primer valor: 15\n",
      "\n",
      " Ingrese segundo valor: 8\n",
      "\n",
      " Division: 15.000000 / 8.000000 = 1.875000\n",
      "\n",
      "   Calculadora \n",
      "\n",
      "    \n",
      "    Menu:\n",
      "    1) Suma\n",
      "    2) Resta\n",
      "    3) Multiplicacion\n",
      "    4) Division\n",
      "    5) Exponente\n",
      "    6) Salir\n",
      "\n",
      " Operacion(ingrese numero del menu): 6\n",
      "\n",
      " Ingrese primer valor: 5\n",
      "\n",
      " Ingrese segundo valor: 2\n",
      "\n",
      " Finalizado\n"
     ]
    }
   ],
   "source": [
    "def menu(): \n",
    "    print(\"\"\"\\n   Calculadora \\n\n",
    "    \n",
    "    Menu:\n",
    "    1) Suma\n",
    "    2) Resta\n",
    "    3) Multiplicacion\n",
    "    4) Division\n",
    "    5) Exponente\n",
    "    6) Salir\"\"\")\n",
    "\n",
    "menu()    \n",
    "x = int(input(\"\\n Operacion(ingrese numero del menu): \"))\n",
    "\n",
    "while(x > 0 and x <7):\n",
    "    y = float(input(\"\\n Ingrese primer valor: \"))\n",
    "    z = float(input(\"\\n Ingrese segundo valor: \"))\n",
    "\n",
    "    if (x==1):\n",
    "        print ('\\n Suma: %f + %f = %f' %(y,z,y+z))\n",
    "        menu()\n",
    "        x = int(input(\"\\n Operacion(ingrese numero del menu): \"))\n",
    "    elif(x==2):\n",
    "        print ('\\n Resta: %f - %f = %f' %(y,z,y-z))\n",
    "        menu()\n",
    "        x = int(input(\"\\n Operacion(ingrese numero del menu): \"))\n",
    "    elif(x==3):\n",
    "        print ('\\n Multiplicacion: %f * %f = %f' %(y,z,y*z))\n",
    "        menu()\n",
    "        x = int(input(\"\\n Operacion(ingrese numero del menu): \"))\n",
    "    elif(x==4):\n",
    "        print ('\\n Division: %f / %f = %f' %(y,z,float(y/z)))\n",
    "        menu()\n",
    "        x = int(input(\"\\n Operacion(ingrese numero del menu): \"))\n",
    "    elif(x==5):\n",
    "        print ('\\n Exponente: %f ^ %f = %f' %(y,z,y**z))\n",
    "        menu()\n",
    "        x = int(input(\"\\n Operacion(ingrese numero del menu): \"))\n",
    "    elif(x==6):\n",
    "        print(\"\\n Finalizado\")\n",
    "        break \n",
    "    else:\n",
    "        print(\"\\n Poner valores del menu\")\n",
    "        menu()\n",
    "        x = int(input(\"\\n Operacion(ingrese numero del menu): \"))\n",
    "\n",
    "\n",
    "    "
   ]
  },
  {
   "cell_type": "markdown",
   "metadata": {},
   "source": [
    "# Ejercicio 3:\n",
    "Con loop while o for, realiza una lista de 10 numeros multiplos de 3, y después realiza una función de loop que sume todos los números dentro del arreglo."
   ]
  },
  {
   "cell_type": "code",
   "execution_count": 160,
   "metadata": {},
   "outputs": [
    {
     "name": "stdout",
     "output_type": "stream",
     "text": [
      "\n",
      " Ingrese el multiplo deseado: 3\n",
      "[3, 6, 9, 12, 15, 18, 21, 24, 27, 30]\n",
      "La suma de los multiplos de 3 es 165\n"
     ]
    }
   ],
   "source": [
    "b = int(input(\"\\n Ingrese el multiplo deseado: \"))\n",
    "a=list()\n",
    "i=0\n",
    "\n",
    "while i<10:\n",
    "    a.append((i+1)*b)\n",
    "    i=i+1\n",
    "print(a)\n",
    "\n",
    "i=0\n",
    "suma=0\n",
    "while i<10:\n",
    "    suma=suma+a[i]\n",
    "    i=i+1\n",
    "\n",
    "print(\"La suma de los multiplos de %i es %i\"%(b,suma))"
   ]
  },
  {
   "cell_type": "markdown",
   "metadata": {},
   "source": [
    "# Ejercicio 4\n",
    "Par o impar\n",
    "Con una función de if else, revisar si un número es par o es impar.\n",
    "Con una función de if else, revisar si un número es primo o no.\n",
    "\n",
    "-  [Par o impar](https://www.linuxhispano.net/2019/03/20/calcular-numero-par-impar-python/)\n",
    "-  [Primo o no primo](https://misfragmentosdecodigo.eu/mostrar-si-un-numero-es-primo-con-python/)"
   ]
  },
  {
   "cell_type": "code",
   "execution_count": 161,
   "metadata": {},
   "outputs": [
    {
     "name": "stdout",
     "output_type": "stream",
     "text": [
      "\n",
      " Ingrese un numero: 13\n",
      "El número 13 es impar.\n",
      "\n",
      "13 es divisible por: 1 - 13 - Fin\n",
      "El numero ingresado si es primo, tiene 2 divisores\n"
     ]
    }
   ],
   "source": [
    "#par o impar\n",
    "a = int(input(\"\\n Ingrese un numero: \"))\n",
    "\n",
    "if a % 2 == 0:\n",
    "    print('El número', a, 'es par.')\n",
    "else:\n",
    "    print('El número', a, 'es impar.')\n",
    "    \n",
    "#primo o no primo\n",
    "\n",
    "numero = a\n",
    "cont = 0\n",
    "print()\n",
    "print(\"{0} es divisible por\".format(numero), end=\": \")\n",
    "for n in range(1, numero+1):\n",
    "    if numero % n == 0:\n",
    "        print(n, end=\" - \")\n",
    "        cont += 1\n",
    "print(\"Fin\")\n",
    "    \n",
    "if cont == 2:\n",
    "        print(\"El numero ingresado si es primo, tiene {0} divisores\".format(cont))\n",
    "else:\n",
    "        print(\"El numero ingresado no es primo, tiene {0} divisores\".format(cont))\n"
   ]
  },
  {
   "cell_type": "markdown",
   "metadata": {},
   "source": [
    "# Ejercicio 5\n",
    "Utilizando diferentes clases en python, crea una calculadora con los operadores básicos de suma, resta, multiplicación, división, y exponente.\n",
    "\n",
    "Funciones matemáticas en la librería de math en python"
   ]
  },
  {
   "cell_type": "code",
   "execution_count": 162,
   "metadata": {},
   "outputs": [
    {
     "name": "stdout",
     "output_type": "stream",
     "text": [
      "\n",
      "   Calculadora \n",
      "\n",
      "    \n",
      "    Menu:\n",
      "    1) Suma\n",
      "    2) Resta\n",
      "    3) Multiplicacion\n",
      "    4) Division\n",
      "    5) Exponente\n",
      "    6) Salir\n",
      "\n",
      " Operacion(ingrese numero del menu): 4\n",
      "\n",
      " Ingrese primer valor: 8\n",
      "\n",
      " Ingrese segundo valor: 6\n",
      "\n",
      " Division: 8.000000 / 6.000000 = 1.333333\n",
      "\n",
      "   Calculadora \n",
      "\n",
      "    \n",
      "    Menu:\n",
      "    1) Suma\n",
      "    2) Resta\n",
      "    3) Multiplicacion\n",
      "    4) Division\n",
      "    5) Exponente\n",
      "    6) Salir\n",
      "\n",
      " Operacion(ingrese numero del menu): 6\n",
      "\n",
      " Ingrese primer valor: 5\n",
      "\n",
      " Ingrese segundo valor: 2\n",
      "\n",
      " Finalizado\n"
     ]
    }
   ],
   "source": [
    "import math as m\n",
    "def suma(y,z):\n",
    "    op=y+z\n",
    "    return op\n",
    "def resta(y,z):\n",
    "    op=y-z\n",
    "    return op\n",
    "def multiplicacion(y,z):\n",
    "    op=y*z\n",
    "    return op\n",
    "def division(y,z):\n",
    "    op=float(y/z)\n",
    "    return op\n",
    "def exponente(y,z):\n",
    "    op=y**z\n",
    "    return op\n",
    "\n",
    "def menu(): \n",
    "    print(\"\"\"\\n   Calculadora \\n\n",
    "    \n",
    "    Menu:\n",
    "    1) Suma\n",
    "    2) Resta\n",
    "    3) Multiplicacion\n",
    "    4) Division\n",
    "    5) Exponente\n",
    "    6) Salir\"\"\")\n",
    "\n",
    "menu()    \n",
    "x = int(input(\"\\n Operacion(ingrese numero del menu): \"))\n",
    "\n",
    "while(x > 0 and x <7):\n",
    "    y = float(input(\"\\n Ingrese primer valor: \"))\n",
    "    z = float(input(\"\\n Ingrese segundo valor: \"))\n",
    "\n",
    "    if (x==1):\n",
    "        print ('\\n Suma: %f + %f = %f' %(y,z,suma(y,z)))\n",
    "        menu()\n",
    "        x = int(input(\"\\n Operacion(ingrese numero del menu): \"))\n",
    "    elif(x==2):\n",
    "        print ('\\n Resta: %f - %f = %f' %(y,z,resta(y,z)))\n",
    "        menu()\n",
    "        x = int(input(\"\\n Operacion(ingrese numero del menu): \"))\n",
    "    elif(x==3):\n",
    "        print ('\\n Multiplicacion: %f * %f = %f' %(y,z,multiplicacion(y,z)))\n",
    "        menu()\n",
    "        x = int(input(\"\\n Operacion(ingrese numero del menu): \"))\n",
    "    elif(x==4):\n",
    "        print ('\\n Division: %f / %f = %f' %(y,z,division(y,z)))\n",
    "        menu()\n",
    "        x = int(input(\"\\n Operacion(ingrese numero del menu): \"))\n",
    "    elif(x==5):\n",
    "        print ('\\n Exponente: %f ^ %f = %f' %(y,z,exponente(y,z)))\n",
    "        menu()\n",
    "        x = int(input(\"\\n Operacion(ingrese numero del menu): \"))\n",
    "    elif(x==6):\n",
    "        print(\"\\n Finalizado\")\n",
    "        break \n",
    "    else:\n",
    "        print(\"\\n Poner valores del menu\")\n",
    "        menu()\n",
    "        x = int(input(\"\\n Operacion(ingrese numero del menu): \"))"
   ]
  },
  {
   "cell_type": "markdown",
   "metadata": {},
   "source": [
    "# Ejercicios con estructuras básicas de python.\n",
    "\n",
    "## Tuplas\n",
    "-  Crear una variable flotante, integer, boleana y compleja e imprimir el tipo de variable que es.\n",
    "-  Crear una tupla con valores enteros imprimir el primer y ultimo valor.\n",
    "-  Añadir 3 valores de string a la tupla.\n",
    "-  Verificar si una variable existe dentro de la tupla.\n",
    "\n",
    "## Listas\n",
    "-  Crear una lista con 40 elementos aleatorios enteros.\n",
    "-  Con una funcion (def) crear dos listas nuevas a partir de la lista creada por numeros aleatorios, en la cual en una esten los elementos pares, y en la otra los elementos impares.\n",
    "-  Crear dos variables con la longitud de ambas listas nuevas e imprimir las variables.\n",
    "-  Ordenar los elementos de la lista par de mayor a menor, y los de la lista impar de menor a mayor.\n",
    "-  Utilizar al menos cuatro de las funciones de listas en python en la lista original de 40 elementos.\n",
    "\n",
    "## Diccionarios\n",
    "-  Crear un diccionario de 6 personas que conozcas con su primer nombre y su edad.\n",
    "-  Crear una lista con los valores de la edad y reacomodar la lista de menor a mayor valor.\n",
    "-  Usando el diccionario y un loop, imprimir solo los nombres.\n",
    "-  Añadir dos personas nuevas a tu diccionario, incluyendo edad.\n",
    "\n",
    "## Sets\n",
    "-  Crea un set con 100 numeros aleatorios enteros del 1 al 25.\n",
    "-  Comprueba la longitud de tu set.\n",
    "-  Crea una lista de 5 numeros aleatorios del 1 al 10 y comprueba si cada valor aparece en el set inicial."
   ]
  },
  {
   "cell_type": "markdown",
   "metadata": {},
   "source": [
    "#### TUPLAS\n",
    "-  Clasificar variable"
   ]
  },
  {
   "cell_type": "code",
   "execution_count": 60,
   "metadata": {},
   "outputs": [
    {
     "name": "stdout",
     "output_type": "stream",
     "text": [
      "La variable  1 es del tipo <class 'int'>\n",
      "La variable  3.75 es del tipo <class 'float'>\n",
      "La variable  True es del tipo <class 'bool'>\n",
      "La variable  5j es del tipo <class 'complex'>\n"
     ]
    }
   ],
   "source": [
    "v1=1\n",
    "print(\"La variable \",v1, \"es del tipo\", type(v1))\n",
    "v2= 3.75\n",
    "print(\"La variable \",v2, \"es del tipo\", type(v2))\n",
    "v3= True\n",
    "print(\"La variable \",v3, \"es del tipo\", type(v3))\n",
    "v4=5j\n",
    "print(\"La variable \",v4, \"es del tipo\", type(v4))"
   ]
  },
  {
   "cell_type": "markdown",
   "metadata": {},
   "source": [
    "-  Crear una tupla con valores enteros imprimir el primer y ultimo valor"
   ]
  },
  {
   "cell_type": "code",
   "execution_count": 61,
   "metadata": {},
   "outputs": [
    {
     "name": "stdout",
     "output_type": "stream",
     "text": [
      "El primer valor de la tupla es 1 y el ultimo valor de la tupla es 10 \n"
     ]
    }
   ],
   "source": [
    "t = (1,2,3,4,5,6,7,8,9,10)\n",
    "print(\"El primer valor de la tupla es %i y el ultimo valor de la tupla es %i \" %(t[0], t[-1]))"
   ]
  },
  {
   "cell_type": "markdown",
   "metadata": {},
   "source": [
    "-  Añadir 3 valores de string a la tupla.\n",
    "\n",
    " -  [append](https://recursospython.com/guias-y-manuales/listas-y-tuplas/)"
   ]
  },
  {
   "cell_type": "code",
   "execution_count": 69,
   "metadata": {},
   "outputs": [
    {
     "name": "stdout",
     "output_type": "stream",
     "text": [
      "[1, 2, 3, 4, 5, 6, 7, 8, 9, 10, 'pera', 'mango', 'limon']\n"
     ]
    }
   ],
   "source": [
    "tupla=list(t)\n",
    "tupla.append(\"pera\")\n",
    "tupla.append(\"mango\")\n",
    "tupla.append(\"limon\")\n",
    "print(tupla)"
   ]
  },
  {
   "cell_type": "markdown",
   "metadata": {},
   "source": [
    "-  Verificar si una variable existe dentro de la tupla.\n",
    " -  [in](https://recursospython.com/guias-y-manuales/listas-y-tuplas/)"
   ]
  },
  {
   "cell_type": "code",
   "execution_count": 73,
   "metadata": {},
   "outputs": [
    {
     "data": {
      "text/plain": [
       "True"
      ]
     },
     "execution_count": 73,
     "metadata": {},
     "output_type": "execute_result"
    }
   ],
   "source": [
    "#buscar limon\n",
    "\"limon\" in tupla\n"
   ]
  },
  {
   "cell_type": "markdown",
   "metadata": {},
   "source": [
    "#### Listas\n",
    "-  Crear una lista con 40 elementos aleatorios enteros.\n",
    " -  [Random](https://es.stackoverflow.com/questions/124063/crear-una-lista-de-numeros-aleatorios-en-python)"
   ]
  },
  {
   "cell_type": "code",
   "execution_count": 163,
   "metadata": {},
   "outputs": [
    {
     "name": "stdout",
     "output_type": "stream",
     "text": [
      "Ingrese cuantos numeros aleatorios desea obtener\n",
      "40\n",
      "[90, 1, 37, 1, 4, 50, 94, 31, 85, 49, 30, 36, 61, 80, 51, 15, 36, 79, 47, 77, 31, 56, 95, 90, 19, 64, 100, 33, 60, 25, 21, 11, 77, 33, 78, 20, 43, 2, 65, 74]\n"
     ]
    }
   ],
   "source": [
    "import random\n",
    "def listaAleatorios(n):\n",
    "      lista = [0]  * n\n",
    "      for i in range(n):\n",
    "          lista[i] = random.randint(0,100)\n",
    "      return lista\n",
    "\n",
    "print(\"Ingrese cuantos numeros aleatorios desea obtener\")\n",
    "n=int(input())\n",
    "\n",
    "aleatorios=listaAleatorios(n)\n",
    "print(aleatorios)"
   ]
  },
  {
   "cell_type": "markdown",
   "metadata": {},
   "source": [
    "- Con una funcion (def) crear dos listas nuevas a partir de la lista creada por numeros aleatorios, en la cual en una esten los elementos pares, y en la otra los elementos impares."
   ]
  },
  {
   "cell_type": "code",
   "execution_count": 164,
   "metadata": {},
   "outputs": [
    {
     "name": "stdout",
     "output_type": "stream",
     "text": [
      "Pares:  [90, 4, 50, 94, 30, 36, 80, 36, 56, 90, 64, 100, 60, 78, 20, 2, 74]\n",
      "Impares:  [1, 37, 1, 31, 85, 49, 61, 51, 15, 79, 47, 77, 31, 95, 19, 33, 25, 21, 11, 77, 33, 43, 65]\n"
     ]
    }
   ],
   "source": [
    "lpar=[]\n",
    "limpar=[]\n",
    "def clasif(list):\n",
    "    for i in list:\n",
    "        if i%2==0:\n",
    "            lpar.append(i)\n",
    "        else:\n",
    "            limpar.append(i)\n",
    "    \n",
    "    print(\"Pares: \", lpar)\n",
    "    print(\"Impares: \", limpar)\n",
    "    \n",
    "clasif(aleatorios)"
   ]
  },
  {
   "cell_type": "markdown",
   "metadata": {},
   "source": [
    "-  Crear dos variables con la longitud de ambas listas nuevas e imprimir las variables."
   ]
  },
  {
   "cell_type": "code",
   "execution_count": 165,
   "metadata": {},
   "outputs": [
    {
     "name": "stdout",
     "output_type": "stream",
     "text": [
      "Longitud pares: 17\n",
      "Longitud pares: 23\n"
     ]
    }
   ],
   "source": [
    "print(\"Longitud pares:\", len(lpar))\n",
    "print(\"Longitud pares:\", len(limpar))"
   ]
  },
  {
   "cell_type": "markdown",
   "metadata": {},
   "source": [
    "-  Ordenar los elementos de la lista par de mayor a menor, y los de la lista impar de menor a mayor.\n",
    "  - [De menor a mayor](https://uniwebsidad.com/libros/algoritmos-python/capitulo-7/ordenar-listas)\n",
    "  - [De mayor a menor](https://j2logo.com/python/ordenar-una-lista-en-python/)"
   ]
  },
  {
   "cell_type": "code",
   "execution_count": 166,
   "metadata": {},
   "outputs": [
    {
     "name": "stdout",
     "output_type": "stream",
     "text": [
      "Par de mayor a menor:  [100, 94, 90, 90, 80, 78, 74, 64, 60, 56, 50, 36, 36, 30, 20, 4, 2]\n",
      "Impares de menor a mayor:  [1, 1, 11, 15, 19, 21, 25, 31, 31, 33, 33, 37, 43, 47, 49, 51, 61, 65, 77, 77, 79, 85, 95]\n"
     ]
    }
   ],
   "source": [
    "lpar.sort(reverse=True)\n",
    "m=sorted(limpar)\n",
    "print(\"Par de mayor a menor: \", lpar)\n",
    "print(\"Impares de menor a mayor: \", m)\n"
   ]
  },
  {
   "cell_type": "markdown",
   "metadata": {},
   "source": [
    "- Utilizar al menos cuatro de las funciones de listas en python en la lista original de 40 elementos.\n",
    "\n",
    "    - [Funciones de listas](https://likegeeks.com/es/funciones-de-listas-de-python/)"
   ]
  },
  {
   "cell_type": "code",
   "execution_count": 167,
   "metadata": {},
   "outputs": [
    {
     "name": "stdout",
     "output_type": "stream",
     "text": [
      "\n",
      "  Lista original: \n",
      " [90, 1, 37, 1, 4, 50, 94, 31, 85, 49, 30, 36, 61, 80, 51, 15, 36, 79, 47, 77, 31, 56, 95, 90, 19, 64, 100, 33, 60, 25, 21, 11, 77, 33, 78, 20, 43, 2, 65, 74]\n",
      "\n",
      " 1. Modificando el segundo elemento por 13: \n",
      "  [90, 13, 37, 1, 4, 50, 94, 31, 85, 49, 30, 36, 61, 80, 51, 15, 36, 79, 47, 77, 31, 56, 95, 90, 19, 64, 100, 33, 60, 25, 21, 11, 77, 33, 78, 20, 43, 2, 65, 74]\n",
      "\n",
      " 2. Lista del elemento 5 al 15: \n",
      " [4, 50, 94, 31, 85, 49, 30, 36, 61, 80, 51]\n",
      "\n",
      " 3. Remover el ultimo elemento de la lista: \n",
      "  74\n",
      "\n",
      " 4.El maximo de la lista es: \n",
      " 100\n"
     ]
    }
   ],
   "source": [
    "#1. Cambiar elemento de la lista\n",
    "    #ORIGINAL\n",
    "print(\"\\n  Lista original: \\n\",aleatorios)\n",
    "\n",
    "aleatorios[1] = 13\n",
    "print(\"\\n 1. Modificando el segundo elemento por 13: \\n \", aleatorios)\n",
    "\n",
    "#2. Cortar la lista\n",
    "print(\"\\n 2. Lista del elemento 5 al 15: \\n\", aleatorios[4:15])\n",
    "\n",
    "#3. Invertir una lista\n",
    "print(\"\\n 3. Remover el ultimo elemento de la lista: \\n \", aleatorios.pop())\n",
    "\n",
    "#4. Maximo de la lista\n",
    "print(\"\\n 4.El maximo de la lista es: \\n\",max(aleatorios))\n",
    "    \n",
    "    "
   ]
  },
  {
   "cell_type": "markdown",
   "metadata": {},
   "source": [
    "#### Diccionarios\n",
    "- Crear un diccionario de 6 personas que conozcas con su primer nombre y su edad."
   ]
  },
  {
   "cell_type": "code",
   "execution_count": 168,
   "metadata": {},
   "outputs": [
    {
     "name": "stdout",
     "output_type": "stream",
     "text": [
      "\n",
      " Nombre:  ['Alison', 'Kou', 'Eren', 'Cui', 'Chefsito']\n",
      "\n",
      " Edad:  [20, 16, 16, 2, 1]\n"
     ]
    }
   ],
   "source": [
    "dicc1={'Alison':20, 'Kou':16,'Eren':16,'Cui':2, 'Chefsito':1}\n",
    "nombre=list(dicc1.keys())\n",
    "edad=list(dicc1.values())\n",
    "print(\"\\n Nombre: \",nombre)\n",
    "print(\"\\n Edad: \",edad)"
   ]
  },
  {
   "cell_type": "markdown",
   "metadata": {},
   "source": [
    "- Crear una lista con los valores de la edad y reacomodar la lista de menor a mayor valor."
   ]
  },
  {
   "cell_type": "code",
   "execution_count": 169,
   "metadata": {},
   "outputs": [
    {
     "name": "stdout",
     "output_type": "stream",
     "text": [
      "\n",
      " Edad:  [20, 16, 16, 2, 1]\n",
      "\n",
      " Edad:  [1, 2, 16, 16, 20]\n"
     ]
    }
   ],
   "source": [
    "print(\"\\n Edad: \",edad)\n",
    "print(\"\\n Edad: \",sorted(edad))"
   ]
  },
  {
   "cell_type": "markdown",
   "metadata": {},
   "source": [
    "-  Usando el diccionario y un loop, imprimir solo los nombres."
   ]
  },
  {
   "cell_type": "code",
   "execution_count": 170,
   "metadata": {},
   "outputs": [
    {
     "name": "stdout",
     "output_type": "stream",
     "text": [
      "Nombre: \n",
      "\n",
      "Alison \n",
      "\n",
      "Kou \n",
      "\n",
      "Eren \n",
      "\n",
      "Cui \n",
      "\n",
      "Chefsito \n",
      "\n"
     ]
    }
   ],
   "source": [
    "print(\"Nombre: \\n\")\n",
    "for i in dicc1:\n",
    "    print( i ,\"\\n\")"
   ]
  },
  {
   "cell_type": "markdown",
   "metadata": {},
   "source": [
    "-  Añadir dos personas nuevas a tu diccionario, incluyendo edad."
   ]
  },
  {
   "cell_type": "code",
   "execution_count": 171,
   "metadata": {},
   "outputs": [
    {
     "name": "stdout",
     "output_type": "stream",
     "text": [
      "\n",
      " Añadimos dos elementos: \n",
      "\n",
      "{'Alison': 20, 'Kou': 16, 'Eren': 16, 'Cui': 2, 'Chefsito': 1, 'Norma': 43, 'Gaby': 4}\n"
     ]
    }
   ],
   "source": [
    "print(\"\\n Añadimos dos elementos: \\n\")\n",
    "dicc1[\"Norma\"]=43\n",
    "dicc1[\"Gaby\"]=4\n",
    "\n",
    "print(dicc1)"
   ]
  },
  {
   "cell_type": "markdown",
   "metadata": {},
   "source": [
    "#### Sets\n",
    "- Crea un set con 100 numeros aleatorios enteros del 1 al 25."
   ]
  },
  {
   "cell_type": "code",
   "execution_count": 174,
   "metadata": {},
   "outputs": [
    {
     "name": "stdout",
     "output_type": "stream",
     "text": [
      "Set: \n",
      "  {1, 2, 3, 4, 5, 6, 7, 8, 9, 10, 11, 12, 13, 14, 15, 16, 17, 18, 19, 20, 21, 22, 23, 24, 25}\n"
     ]
    }
   ],
   "source": [
    "import random as r\n",
    "s=set()\n",
    "for i in range(1,100):\n",
    "    s.add(r.randint(1,25))\n",
    "print(\"Set: \\n \",s)"
   ]
  },
  {
   "cell_type": "markdown",
   "metadata": {},
   "source": [
    "-  Comprueba la longitud de tu set."
   ]
  },
  {
   "cell_type": "code",
   "execution_count": 175,
   "metadata": {},
   "outputs": [
    {
     "name": "stdout",
     "output_type": "stream",
     "text": [
      "Longitud del set: \n",
      " 25\n"
     ]
    }
   ],
   "source": [
    "print(\"Longitud del set: \\n\",len(s))"
   ]
  },
  {
   "cell_type": "markdown",
   "metadata": {},
   "source": [
    "-  Crea una lista de 5 numeros aleatorios del 1 al 10 y comprueba si cada valor aparece en el set inicial."
   ]
  },
  {
   "cell_type": "code",
   "execution_count": 176,
   "metadata": {},
   "outputs": [
    {
     "name": "stdout",
     "output_type": "stream",
     "text": [
      "Ingrese cuantos numeros aleatorios desea obtener\n",
      "5\n",
      "[2, 1, 4, 3, 7]\n",
      "\n",
      " El elemento 2 esta en set\n",
      "\n",
      " El elemento 1 esta en set\n",
      "\n",
      " El elemento 4 esta en set\n",
      "\n",
      " El elemento 3 esta en set\n",
      "\n",
      " El elemento 7 esta en set\n"
     ]
    }
   ],
   "source": [
    "def listaS(n):\n",
    "      listaA = [0]  * n\n",
    "      for i in range(n):\n",
    "          listaA[i] = random.randint(1,10)\n",
    "      return listaA\n",
    "\n",
    "print(\"Ingrese cuantos numeros aleatorios desea obtener\")\n",
    "n=int(input())\n",
    "\n",
    "al=listaS(n)\n",
    "print(al)\n",
    "\n",
    "ii=[0,1,2,3,4]\n",
    "\n",
    "for i in ii:\n",
    "    \n",
    "    if al[i] in s:\n",
    "        print(\"\\n El elemento\", al[i], \"esta en set\")\n",
    "    else :\n",
    "        print(\"\\n El elemento\", al[i], \"no esta en set\")\n",
    "   \n"
   ]
  }
 ],
 "metadata": {
  "kernelspec": {
   "display_name": "Python 3",
   "language": "python",
   "name": "python3"
  }
 },
 "nbformat": 4,
 "nbformat_minor": 4
}
